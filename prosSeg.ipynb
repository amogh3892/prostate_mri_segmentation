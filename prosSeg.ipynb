{
 "cells": [
  {
   "cell_type": "markdown",
   "metadata": {},
   "source": [
    "# Prostate Segmentation\n",
    "\n",
    "(Make sure HDF5 files contain dictionary with keys as \"names\",\"data\" and \"mask\") <br>\n",
    "Expected size of the volume - 96x96x64 centered cropped after resampling it to (1x1x1 mm) <br>\n",
    "Recommended batch size of 8-10 to fit the GPU memory of 12 GB <br>\n",
    "modelcheckpoint saved in the Data folder"
   ]
  },
  {
   "cell_type": "code",
   "execution_count": 1,
   "metadata": {},
   "outputs": [],
   "source": [
    "%matplotlib inline\n",
    "import matplotlib.pyplot as plt\n",
    "import torch\n",
    "from torch import nn\n",
    "from torch.utils.data import DataLoader\n",
    "from torchvision import transforms\n",
    "import torchvision.models as models\n",
    "import h5py\n",
    "from torch.autograd import Variable\n",
    "import numpy as np\n",
    "from torch.utils.data import Dataset, DataLoader\n",
    "import torch.nn.functional as F\n",
    "import matplotlib.pyplot as plt \n",
    "from pytorchtools import EarlyStopping\n",
    "from random import randint\n",
    "from segUtil import Modified3DUNet,ProstateDatasetHDF5,DiceLoss"
   ]
  },
  {
   "cell_type": "markdown",
   "metadata": {},
   "source": [
    "### Reading train and val hdf5 files "
   ]
  },
  {
   "cell_type": "code",
   "execution_count": 2,
   "metadata": {},
   "outputs": [],
   "source": [
    "trainfilename = r\"Data/train.h5\"\n",
    "valfilename = r\"Data/val.h5\"\n",
    "\n",
    "train = h5py.File(trainfilename,libver='latest')\n",
    "val = h5py.File(valfilename,libver='latest')\n",
    "\n",
    "trainnames = np.array(train[\"names\"])\n",
    "valnames = np.array(val[\"names\"])\n",
    "\n",
    "train.close()\n",
    "val.close()"
   ]
  },
  {
   "cell_type": "markdown",
   "metadata": {},
   "source": [
    "### Prostate Dataset class"
   ]
  },
  {
   "cell_type": "code",
   "execution_count": 3,
   "metadata": {},
   "outputs": [],
   "source": [
    "data_train = ProstateDatasetHDF5(trainfilename)\n",
    "data_val = ProstateDatasetHDF5(valfilename)"
   ]
  },
  {
   "cell_type": "markdown",
   "metadata": {},
   "source": [
    "### Creating DataLoader for training and validation data "
   ]
  },
  {
   "cell_type": "code",
   "execution_count": 4,
   "metadata": {},
   "outputs": [],
   "source": [
    "batch_size = 10\n",
    "num_workers = 8\n",
    "\n",
    "trainLoader = torch.utils.data.DataLoader(dataset=data_train,batch_size = batch_size,num_workers = num_workers,shuffle = True)\n",
    "valLoader = torch.utils.data.DataLoader(dataset=data_val,batch_size = batch_size,num_workers = num_workers,shuffle = False) \n",
    "\n",
    "dataLoader = {}\n",
    "dataLoader['train'] = trainLoader\n",
    "dataLoader['val'] = valLoader"
   ]
  },
  {
   "cell_type": "markdown",
   "metadata": {},
   "source": [
    "### Visualizing few images"
   ]
  },
  {
   "cell_type": "code",
   "execution_count": 2,
   "metadata": {},
   "outputs": [],
   "source": [
    "def visualizeImagesTorch(data_train,samp):\n",
    "    for i in range(3):     \n",
    "        timg,mask,lb = data_train.__getitem__(i + samp)        \n",
    "        timg = np.asarray(timg)\n",
    "        \n",
    "        print(lb)\n",
    "        print(timg.min())\n",
    "        print(timg.max())\n",
    "\n",
    "        plt.subplot(121)\n",
    "        plt.imshow(timg[0,20,:,:],cmap = 'gray',vmin = 0, vmax = 255)\n",
    "        plt.subplot(122)\n",
    "        plt.imshow(mask[0,20,:,:],cmap = 'gray',vmin = 0, vmax = 1)\n",
    "        plt.show()\n",
    "        \n",
    "visualizeImagesTorch(dataLoader['train'].dataset,50)"
   ]
  },
  {
   "cell_type": "markdown",
   "metadata": {},
   "source": [
    "### Defining UNet model"
   ]
  },
  {
   "cell_type": "code",
   "execution_count": 6,
   "metadata": {},
   "outputs": [
    {
     "name": "stdout",
     "output_type": "stream",
     "text": [
      "cuda:0\n"
     ]
    }
   ],
   "source": [
    "model = Modified3DUNet(1,2)\n",
    "device = torch.device(\"cuda:0\")\n",
    "model.to(device)\n",
    "\n",
    "print(device)"
   ]
  },
  {
   "cell_type": "markdown",
   "metadata": {},
   "source": [
    "### Defining optimizer and loss function "
   ]
  },
  {
   "cell_type": "code",
   "execution_count": 8,
   "metadata": {},
   "outputs": [
    {
     "name": "stdout",
     "output_type": "stream",
     "text": [
      "281\n",
      "6\n"
     ]
    }
   ],
   "source": [
    "num_epochs = 200\n",
    "learning_rate = 1e-4\n",
    "weightdecay = 1e-3\n",
    "\n",
    "optimizer = torch.optim.Adam(model.parameters(), lr=learning_rate, weight_decay=weightdecay)\n",
    "\n",
    "print(len(dataLoader['train']))\n",
    "print(len(dataLoader['val']))"
   ]
  },
  {
   "cell_type": "markdown",
   "metadata": {},
   "source": [
    "### Running the model (make sure specify proper patience and model name to save the model with early stopping criteria)"
   ]
  },
  {
   "cell_type": "code",
   "execution_count": null,
   "metadata": {},
   "outputs": [],
   "source": [
    "patience = 10 \n",
    "early_stopping = EarlyStopping(patience=patience, verbose=True)\n",
    "modelname = r\"unet\""
   ]
  },
  {
   "cell_type": "code",
   "execution_count": 1,
   "metadata": {},
   "outputs": [],
   "source": [
    "niter_total=len(dataLoader['train'].dataset)/batch_size\n",
    "\n",
    "for epoch in range(num_epochs):\n",
    "    \n",
    "    for phase in [\"train\",\"val\"]:\n",
    "        if phase == 'train':\n",
    "            model.train()  # Set model to training mode\n",
    "        else:\n",
    "            model.eval()   # Set model to evaluate mode\n",
    "\n",
    "\n",
    "        loss_vector=[]\n",
    "        for ii,(data,mask,name) in enumerate(dataLoader[phase]):\n",
    "            \n",
    "            if ii % 100 == 0 : \n",
    "                print(ii)\n",
    "            \n",
    "            data = Variable(data.float().cuda(device))\n",
    "            mask = Variable(mask.float().cuda(device))\n",
    "\n",
    "            out,seg_layer = model(data)\n",
    "            label = mask.permute(0, 2, 3, 4, 1).contiguous().view(-1).cuda(device)\n",
    "        \n",
    "            loss = DiceLoss(out[:,1], label)\n",
    "\n",
    "            loss_vector.append(loss.detach().data.cpu().numpy())\n",
    "\n",
    "            if phase==\"train\":\n",
    "                optimizer.zero_grad()\n",
    "\n",
    "                loss.backward()\n",
    "                optimizer.step()  \n",
    "\n",
    "        loss_avg=np.mean(loss_vector)\n",
    "        torch.cuda.empty_cache()\n",
    "        \n",
    "\n",
    "        if phase == 'train':\n",
    "            print(\"Epoch : {}, Phase : {}, Loss : {}\".format(epoch,phase,loss_avg))\n",
    "        else:\n",
    "            print(\"                 Epoch : {}, Phase : {}, Loss : {}\".format(epoch,phase,loss_avg))\n",
    "\n",
    "            \n",
    "            ind = randint(0,data.shape[0]-1)\n",
    "            \n",
    "            img = seg_layer.cpu().detach().numpy()\n",
    "            \n",
    "            \n",
    "            plt.subplot(131)\n",
    "            plt.imshow(data[ind,0,20])\n",
    "            plt.axis('off')\n",
    "            plt.subplot(132)\n",
    "            plt.imshow(mask[ind,0,20])\n",
    "            plt.axis('off')\n",
    "            plt.subplot(133)\n",
    "            plt.imshow(img[ind,1,20])\n",
    "            plt.axis('off')\n",
    "            plt.show()\n",
    "            \n",
    "            \n",
    "        if phase == 'val':\n",
    "            early_stopping(loss_avg, model, modelname,parentfolder = None)\n",
    "\n",
    "        if early_stopping.early_stop:\n",
    "            print(\"Early stopping\")\n",
    "            break\n",
    "\n",
    "    if early_stopping.early_stop:\n",
    "        break"
   ]
  },
  {
   "cell_type": "code",
   "execution_count": null,
   "metadata": {},
   "outputs": [],
   "source": []
  }
 ],
 "metadata": {
  "kernelspec": {
   "display_name": "Python 3",
   "language": "python",
   "name": "python3"
  },
  "language_info": {
   "codemirror_mode": {
    "name": "ipython",
    "version": 2
   },
   "file_extension": ".py",
   "mimetype": "text/x-python",
   "name": "python",
   "nbconvert_exporter": "python",
   "pygments_lexer": "ipython2",
   "version": "2.7.9"
  }
 },
 "nbformat": 4,
 "nbformat_minor": 2
}
